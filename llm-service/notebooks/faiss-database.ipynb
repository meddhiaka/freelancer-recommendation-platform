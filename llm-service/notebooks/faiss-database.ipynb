{
 "cells": [
  {
   "cell_type": "code",
   "execution_count": 1,
   "id": "be778639-f6a6-4577-a05c-bd0cdacddba7",
   "metadata": {},
   "outputs": [],
   "source": [
    "import pandas as pd\n",
    "from langchain_community.document_loaders import DataFrameLoader\n",
    "from langchain_huggingface import HuggingFaceEmbeddings\n",
    "from langchain_community.vectorstores import FAISS\n",
    "import json\n",
    "from langchain_google_genai import GoogleGenerativeAIEmbeddings\n",
    "from langchain_google_genai import ChatGoogleGenerativeAI\n",
    "from langchain.retrievers.self_query.base import SelfQueryRetriever\n",
    "from langchain.chains.query_constructor.base import AttributeInfo\n",
    "from langchain_community.embeddings import HuggingFaceInferenceAPIEmbeddings\n",
    "from langchain.embeddings import HuggingFaceEmbeddings\n",
    "from dotenv import load_dotenv\n",
    "import os"
   ]
  },
  {
   "cell_type": "code",
   "execution_count": 2,
   "id": "fdf5b8df-dc67-4725-b2c6-7d4b39db66b7",
   "metadata": {},
   "outputs": [
    {
     "data": {
      "text/plain": [
       "True"
      ]
     },
     "execution_count": 2,
     "metadata": {},
     "output_type": "execute_result"
    }
   ],
   "source": [
    "load_dotenv()"
   ]
  },
  {
   "cell_type": "code",
   "execution_count": 3,
   "id": "8e5f9068-ad05-4ed0-ba51-a1cbde29ec75",
   "metadata": {},
   "outputs": [],
   "source": [
    "df = pd.read_json(\"assets/freelancers.json\")"
   ]
  },
  {
   "cell_type": "code",
   "execution_count": 4,
   "id": "a26f1f41-cf22-4bde-b43a-648a9f8d2e90",
   "metadata": {},
   "outputs": [
    {
     "data": {
      "text/plain": [
       "Index(['id', 'firstName', 'lastName', 'profileRating', 'role',\n",
       "       'profilePicture', 'description', 'lastEmploymentString',\n",
       "       'freelancerDomain', 'freelancerExpertise', 'timeEmployment', 'email',\n",
       "       'phone', 'instagram', 'twitter', 'website', 'gender', 'birthDate',\n",
       "       'birthPlace', 'languages', 'address', 'experience', 'academicCareer',\n",
       "       'skills'],\n",
       "      dtype='object')"
      ]
     },
     "execution_count": 4,
     "metadata": {},
     "output_type": "execute_result"
    }
   ],
   "source": [
    "loader = DataFrameLoader(df, page_content_column='description')\n",
    "df.columns"
   ]
  },
  {
   "cell_type": "code",
   "execution_count": 5,
   "id": "af34f1d4-2b0c-441d-9de1-23149e98ab08",
   "metadata": {},
   "outputs": [],
   "source": [
    "features = ['id', 'firstName', 'lastName', 'profileRating', 'role', 'profilePicture', 'description', 'lastEmploymentString', 'freelancerDomain', 'freelancerExpertise', 'timeEmployment', 'email', 'phone', 'instagram', 'twitter', 'website', 'gender', 'birthDate', 'birthPlace', 'languages', 'address', 'experience', 'academicCareer', 'skills']"
   ]
  },
  {
   "cell_type": "code",
   "execution_count": 6,
   "id": "65da9a79-11ad-401e-af46-7f7f974ef68d",
   "metadata": {},
   "outputs": [],
   "source": [
    "df_str = df[features].astype(str)\n",
    "texts = df_str.apply(lambda row: json.dumps(dict(zip(features, row))), axis=1).tolist()"
   ]
  },
  {
   "cell_type": "markdown",
   "id": "988803d6-bec2-46d1-86b6-a60782e195c4",
   "metadata": {},
   "source": [
    "> Creating a list, each element in the list represent a json describing the freelancer"
   ]
  },
  {
   "cell_type": "code",
   "execution_count": 7,
   "id": "0052eef3-0196-4356-bdc8-74a1f340427c",
   "metadata": {},
   "outputs": [
    {
     "data": {
      "text/plain": [
       "['{\"id\": \"1\", \"firstName\": \"Aymen\", \"lastName\": \"Ben Ali\", \"profileRating\": \"4.5\", \"role\": \"Software Engineer\", \"profilePicture\": \"/profilePictures/m1.jpg\", \"description\": \"Lorem ipsum dolor sit amet consectetur, adipisicing elit. Aut quis nobis reiciendis tempore ullam, reprehenderit, officiis natus dignissimos aliquid facere deleniti in a odio ea voluptate harum dolorum. Earum, repellat error. Voluptatum hic, eveniet, odio omnis rerum repudiandae voluptates nobis reprehenderit, totam consectetur rem fuga. Quaerat dolorem aperiam molestiae facilis in. Consequatur magni harum quod vel molestiae nemo impedit sunt alias ad animi eos quisquam mollitia voluptatum recusandae, adipisci et cumque minima nesciunt natus repellat asperiores explicabo fugit voluptate. Quod repellendus voluptatum impedit asperiores unde quisquam adipisci esse tempore facere\", \"lastEmploymentString\": \"il ya 2 jours\", \"freelancerDomain\": \"Product Development\", \"freelancerExpertise\": \"marketing\", \"timeEmployment\": \"Plein temps\", \"email\": \"jeromeBell45@email.com\", \"phone\": \"+44 1245 572 135\", \"instagram\": \"instagram.com/jeromebell\", \"twitter\": \"twitter.com/jeromebell\", \"website\": \"www.jeromebell.com\", \"gender\": \"male\", \"birthDate\": \"March 23, 1995 (26 y.o)\", \"birthPlace\": \"Tunis, Tunisia\", \"languages\": \"English, French\", \"address\": \"4517 Washington Ave. Manchester, Kentucky 39495\", \"experience\": \"4 ans\", \"academicCareer\": \"Bachelors in Engineering\", \"skills\": \"[\\'Project Management\\', \\'Copywriting\\', \\'English\\']\"}',\n",
       " '{\"id\": \"2\", \"firstName\": \"Fatma\", \"lastName\": \"Trabelsi\", \"profileRating\": \"4.7\", \"role\": \"Data Scientist\", \"profilePicture\": \"/profilePictures/f1.jpg\", \"description\": \"Lorem ipsum dolor sit amet consectetur, adipisicing elit. Aut quis nobis reiciendis tempore ullam, reprehenderit, officiis natus dignissimos aliquid facere deleniti in a odio ea voluptate harum dolorum. Earum, repellat error. Voluptatum hic, eveniet, odio omnis rerum repudiandae voluptates nobis reprehenderit, totam consectetur rem fuga. Quaerat dolorem aperiam molestiae facilis in. Consequatur magni harum quod vel molestiae nemo impedit sunt alias ad animi eos quisquam mollitia voluptatum recusandae, adipisci et cumque minima nesciunt natus repellat asperiores explicabo fugit voluptate. Quod repellendus voluptatum impedit asperiores unde quisquam adipisci esse tempore facere\", \"lastEmploymentString\": \"il y a 1 mois\", \"freelancerDomain\": \"Data Analytics\", \"freelancerExpertise\": \"data visualization\", \"timeEmployment\": \"Temps partiel\", \"email\": \"fatma.trabelsi@email.com\", \"phone\": \"+33 123 456 789\", \"instagram\": \"instagram.com/fatma_trabelsi\", \"twitter\": \"twitter.com/fatma_trabelsi\", \"website\": \"www.fatmatrabelsi.com\", \"gender\": \"female\", \"birthDate\": \"June 15, 1992 (32 y.o)\", \"birthPlace\": \"Paris, France\", \"languages\": \"English, Arabic\", \"address\": \"12 Rue de Paris, Paris, France\", \"experience\": \"6 ans\", \"academicCareer\": \"Masters in Data Science\", \"skills\": \"[\\'Data Analysis\\', \\'Python\\', \\'SQL\\']\"}',\n",
       " '{\"id\": \"3\", \"firstName\": \"Mohamed\", \"lastName\": \"Hammami\", \"profileRating\": \"4.6\", \"role\": \"Machine Learning Engineer\", \"profilePicture\": \"/profilePictures/m2.jpg\", \"description\": \"Lorem ipsum dolor sit amet consectetur, adipisicing elit. Aut quis nobis reiciendis tempore ullam, reprehenderit, officiis natus dignissimos aliquid facere deleniti in a odio ea voluptate harum dolorum. Earum, repellat error. Voluptatum hic, eveniet, odio omnis rerum repudiandae voluptates nobis reprehenderit, totam consectetur rem fuga. Quaerat dolorem aperiam molestiae facilis in. Consequatur magni harum quod vel molestiae nemo impedit sunt alias ad animi eos quisquam mollitia voluptatum recusandae, adipisci et cumque minima nesciunt natus repellat asperiores explicabo fugit voluptate. Quod repellendus voluptatum impedit asperiores unde quisquam adipisci esse tempore facere\", \"lastEmploymentString\": \"il y a 3 semaines\", \"freelancerDomain\": \"AI & ML\", \"freelancerExpertise\": \"deep learning\", \"timeEmployment\": \"Plein temps\", \"email\": \"mohamed.hammami@email.com\", \"phone\": \"+216 50 123 456\", \"instagram\": \"instagram.com/mohamed_hammami\", \"twitter\": \"twitter.com/mohamed_hammami\", \"website\": \"www.mohamedhammami.com\", \"gender\": \"male\", \"birthDate\": \"October 5, 1989 (34 y.o)\", \"birthPlace\": \"Tunis, Tunisia\", \"languages\": \"English, Arabic\", \"address\": \"4 Rue de Tunis, Tunis, Tunisia\", \"experience\": \"8 ans\", \"academicCareer\": \"PhD in Machine Learning\", \"skills\": \"[\\'TensorFlow\\', \\'Keras\\', \\'Neural Networks\\']\"}',\n",
       " '{\"id\": \"4\", \"firstName\": \"Salma\", \"lastName\": \"Khaled\", \"profileRating\": \"4.8\", \"role\": \"AI Researcher\", \"profilePicture\": \"/profilePictures/f2.jpg\", \"description\": \"Lorem ipsum dolor sit amet consectetur, adipisicing elit. Aut quis nobis reiciendis tempore ullam, reprehenderit, officiis natus dignissimos aliquid facere deleniti in a odio ea voluptate harum dolorum. Earum, repellat error. Voluptatum hic, eveniet, odio omnis rerum repudiandae voluptates nobis reprehenderit, totam consectetur rem fuga. Quaerat dolorem aperiam molestiae facilis in. Consequatur magni harum quod vel molestiae nemo impedit sunt alias ad animi eos quisquam mollitia voluptatum recusandae, adipisci et cumque minima nesciunt natus repellat asperiores explicabo fugit voluptate. Quod repellendus voluptatum impedit asperiores unde quisquam adipisci esse tempore facere\", \"lastEmploymentString\": \"il y a 2 semaines\", \"freelancerDomain\": \"AI Research\", \"freelancerExpertise\": \"natural language processing\", \"timeEmployment\": \"Plein temps\", \"email\": \"salma.khaled@email.com\", \"phone\": \"+20 123 456 789\", \"instagram\": \"instagram.com/salma_khaled\", \"twitter\": \"twitter.com/salma_khaled\", \"website\": \"www.salmakhaled.com\", \"gender\": \"female\", \"birthDate\": \"April 22, 1987 (37 y.o)\", \"birthPlace\": \"Marseille, France\", \"languages\": \"English, Arabic\", \"address\": \"24 Boulevard Longchamp, Marseille, France\", \"experience\": \"10 ans\", \"academicCareer\": \"Masters in Artificial Intelligence\", \"skills\": \"[\\'NLP\\', \\'Python\\', \\'Research\\']\"}',\n",
       " '{\"id\": \"5\", \"firstName\": \"Nour\", \"lastName\": \"Maaloul\", \"profileRating\": \"4.4\", \"role\": \"DevOps Engineer\", \"profilePicture\": \"/profilePictures/f3.jpg\", \"description\": \"Lorem ipsum dolor sit amet consectetur, adipisicing elit. Aut quis nobis reiciendis tempore ullam, reprehenderit, officiis natus dignissimos aliquid facere deleniti in a odio ea voluptate harum dolorum. Earum, repellat error. Voluptatum hic, eveniet, odio omnis rerum repudiandae voluptates nobis reprehenderit, totam consectetur rem fuga. Quaerat dolorem aperiam molestiae facilis in. Consequatur magni harum quod vel molestiae nemo impedit sunt alias ad animi eos quisquam mollitia voluptatum recusandae, adipisci et cumque minima nesciunt natus repellat asperiores explicabo fugit voluptate. Quod repellendus voluptatum impedit asperiores unde quisquam adipisci esse tempore facere\", \"lastEmploymentString\": \"il y a 1 mois\", \"freelancerDomain\": \"DevOps\", \"freelancerExpertise\": \"cloud infrastructure\", \"timeEmployment\": \"Plein temps\", \"email\": \"nour.maaloul@email.com\", \"phone\": \"+961 71 234 567\", \"instagram\": \"instagram.com/nour_maaloul\", \"twitter\": \"twitter.com/nour_maaloul\", \"website\": \"www.nourmaaloul.com\", \"gender\": \"female\", \"birthDate\": \"August 12, 1990 (33 y.o)\", \"birthPlace\": \"Tunis, Tunisia\", \"languages\": \"English, Arabic\", \"address\": \"8 Rue de Beirut, Beirut, Lebanon\", \"experience\": \"5 ans\", \"academicCareer\": \"Bachelors in Computer Science\", \"skills\": \"[\\'AWS\\', \\'Docker\\', \\'CI/CD\\']\"}',\n",
       " '{\"id\": \"6\", \"firstName\": \"Rania\", \"lastName\": \"Bouzid\", \"profileRating\": \"4.3\", \"role\": \"Frontend Developer\", \"profilePicture\": \"/profilePictures/f4.jpg\", \"description\": \"Lorem ipsum dolor sit amet consectetur, adipisicing elit. Aut quis nobis reiciendis tempore ullam, reprehenderit, officiis natus dignissimos aliquid facere deleniti in a odio ea voluptate harum dolorum. Earum, repellat error. Voluptatum hic, eveniet, odio omnis rerum repudiandae voluptates nobis reprehenderit, totam consectetur rem fuga. Quaerat dolorem aperiam molestiae facilis in. Consequatur magni harum quod vel molestiae nemo impedit sunt alias ad animi eos quisquam mollitia voluptatum recusandae, adipisci et cumque minima nesciunt natus repellat asperiores explicabo fugit voluptate. Quod repellendus voluptatum impedit asperiores unde quisquam adipisci esse tempore facere\", \"lastEmploymentString\": \"il y a 2 jours\", \"freelancerDomain\": \"Web Development\", \"freelancerExpertise\": \"React.js\", \"timeEmployment\": \"Plein temps\", \"email\": \"rania.bouzid@email.com\", \"phone\": \"+216 70 123 456\", \"instagram\": \"instagram.com/rania_bouzid\", \"twitter\": \"twitter.com/rania_bouzid\", \"website\": \"www.raniabouzid.com\", \"gender\": \"female\", \"birthDate\": \"January 29, 1994 (30 y.o)\", \"birthPlace\": \"Lille, France\", \"languages\": \"English, French\", \"address\": \"10 Rue de Lille, Lille, France\", \"experience\": \"3 ans\", \"academicCareer\": \"Bachelors in Web Development\", \"skills\": \"[\\'React.js\\', \\'CSS\\', \\'JavaScript\\']\"}']"
      ]
     },
     "execution_count": 7,
     "metadata": {},
     "output_type": "execute_result"
    }
   ],
   "source": [
    "texts"
   ]
  },
  {
   "cell_type": "code",
   "execution_count": 8,
   "id": "0c5d9f51-9aec-4267-923b-3e3e2493be44",
   "metadata": {},
   "outputs": [],
   "source": [
    "documents = loader.load()"
   ]
  },
  {
   "cell_type": "code",
   "execution_count": 9,
   "id": "65098e39-0697-4333-beb5-646589b9627b",
   "metadata": {},
   "outputs": [],
   "source": [
    "inference_api_key = os.getenv('HUGGING_FACE_INFERENCE')"
   ]
  },
  {
   "cell_type": "code",
   "execution_count": 12,
   "id": "bf5f5cae-06a4-4380-a22f-fd27e137af71",
   "metadata": {},
   "outputs": [],
   "source": [
    "model = GoogleGenerativeAIEmbeddings(model=\"models/embedding-001\")\n",
    "embeddings_test = HuggingFaceInferenceAPIEmbeddings(\n",
    "    api_key=inference_api_key, model_name=\"Salesforce/SFR-Embedding-2_R\"\n",
    ")\n",
    "# hf_embeddings = HuggingFaceEmbeddings(model_name=\"BAAI/bge-en-icl\")"
   ]
  },
  {
   "cell_type": "code",
   "execution_count": null,
   "id": "e9303bfa-4e82-440b-be48-6278c35b5997",
   "metadata": {},
   "outputs": [],
   "source": [
    "vectors = embeddings_test.embed_documents(texts)"
   ]
  },
  {
   "cell_type": "markdown",
   "id": "6e30f402-5fab-4191-b08c-19a942470f25",
   "metadata": {},
   "source": [
    "> Creating a matrix with the texts and vectors, in goal to store them in FAISS"
   ]
  },
  {
   "cell_type": "code",
   "execution_count": null,
   "id": "dc3a1560-b77b-4c9d-9707-75e13f6effca",
   "metadata": {},
   "outputs": [],
   "source": [
    "vectors"
   ]
  },
  {
   "cell_type": "code",
   "execution_count": null,
   "id": "ce16b013-f766-4574-b0a1-faf4ff499e85",
   "metadata": {},
   "outputs": [],
   "source": [
    "text_embeddings = list(zip(texts, vectors))"
   ]
  },
  {
   "cell_type": "code",
   "execution_count": null,
   "id": "3cf2601b-332f-4199-9eda-40d09715e444",
   "metadata": {},
   "outputs": [],
   "source": [
    "vectorstore = FAISS.from_embeddings(text_embeddings, embeddings_test)"
   ]
  },
  {
   "cell_type": "markdown",
   "id": "a4bc43cf-3aa3-4a80-b255-6acfb7acac3b",
   "metadata": {},
   "source": [
    "### Creating the vectorstore for LLM use and permanent data instead of fine tuning"
   ]
  },
  {
   "cell_type": "code",
   "execution_count": null,
   "id": "50d5192b-c008-4b73-a113-e11538834273",
   "metadata": {},
   "outputs": [],
   "source": [
    "vectorstore"
   ]
  },
  {
   "cell_type": "markdown",
   "id": "67e02ca7-7c10-48d4-b0cc-09f79799ff5c",
   "metadata": {},
   "source": [
    "> the indexes before storing them"
   ]
  },
  {
   "cell_type": "code",
   "execution_count": null,
   "id": "4e3a8952-c304-4bfe-bbf8-eae7ee924921",
   "metadata": {},
   "outputs": [],
   "source": [
    "!dir rag_data"
   ]
  },
  {
   "cell_type": "code",
   "execution_count": null,
   "id": "21c5e70d-88d4-4c09-a124-ad09479b8ed3",
   "metadata": {},
   "outputs": [],
   "source": [
    "vectorstore.save_local(\"rag_data\")"
   ]
  },
  {
   "cell_type": "markdown",
   "id": "30b87aef-357c-4366-a215-2016df48c775",
   "metadata": {},
   "source": [
    "> the indexes after storing the personal data for RAG operations"
   ]
  },
  {
   "cell_type": "code",
   "execution_count": null,
   "id": "4b2db509-4651-4c41-b063-1dc7c072639e",
   "metadata": {},
   "outputs": [],
   "source": [
    "!dir rag_data"
   ]
  },
  {
   "cell_type": "code",
   "execution_count": null,
   "id": "1bbeb56d-446a-48ed-bcf6-409aacc25c15",
   "metadata": {},
   "outputs": [],
   "source": [
    "reply = vectorstore.similarity_search(\"I want a freelancer that is proficient in Docker\", k=1)\n",
    "reply"
   ]
  },
  {
   "cell_type": "code",
   "execution_count": null,
   "id": "6facfd45-6f41-4515-8f9c-44bfb464135f",
   "metadata": {},
   "outputs": [],
   "source": [
    "LLM = ChatGoogleGenerativeAI(model=\"gemini-pro\", temperature=0)"
   ]
  },
  {
   "cell_type": "code",
   "execution_count": null,
   "id": "e9f13e9a-1f90-4ad0-b1b8-bc014034873b",
   "metadata": {},
   "outputs": [],
   "source": [
    "temporary_template = f\"\"\"\n",
    "Create a clear and concise summary of the freelancer described in the following json. \n",
    "Avoid any markdown responses or formatting, and focus on presenting the key details in a straightforward, easy-to-understand manner:\n",
    "{reply}\n",
    "\"\"\"\n",
    "result = LLM.invoke(temporary_template)\n",
    "result.content"
   ]
  }
 ],
 "metadata": {
  "kernelspec": {
   "display_name": "Python 3 (ipykernel)",
   "language": "python",
   "name": "python3"
  },
  "language_info": {
   "codemirror_mode": {
    "name": "ipython",
    "version": 3
   },
   "file_extension": ".py",
   "mimetype": "text/x-python",
   "name": "python",
   "nbconvert_exporter": "python",
   "pygments_lexer": "ipython3",
   "version": "3.12.4"
  }
 },
 "nbformat": 4,
 "nbformat_minor": 5
}
