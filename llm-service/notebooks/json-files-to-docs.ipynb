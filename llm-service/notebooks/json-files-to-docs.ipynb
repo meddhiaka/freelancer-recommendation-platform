{
 "cells": [
  {
   "cell_type": "markdown",
   "id": "ce4f1fc2-1467-4a08-a40e-6b11e475c2a1",
   "metadata": {},
   "source": [
    "# Creating LangChain recognized documents from existing JSON file (using DataFrames)"
   ]
  },
  {
   "cell_type": "code",
   "execution_count": 1,
   "id": "4fb07a85-e017-4e5d-9eda-b740dca4209a",
   "metadata": {},
   "outputs": [],
   "source": [
    "import pandas as pd\n",
    "from langchain_community.document_loaders import DataFrameLoader"
   ]
  },
  {
   "cell_type": "markdown",
   "id": "ea201e4c-4b6d-4fee-baae-956f7bfe5873",
   "metadata": {},
   "source": [
    "> Reading the json file from test asset"
   ]
  },
  {
   "cell_type": "code",
   "execution_count": 2,
   "id": "c9ddfbde-9942-4b0d-b43a-05adfa621c3c",
   "metadata": {},
   "outputs": [],
   "source": [
    "df = pd.read_json(\"assets/freelancers.json\")"
   ]
  },
  {
   "cell_type": "markdown",
   "id": "f7ef97d4-7f1b-4dbf-8804-cb02b3174307",
   "metadata": {},
   "source": [
    "> Assigning the description feature as the main column for describing the document"
   ]
  },
  {
   "cell_type": "code",
   "execution_count": 3,
   "id": "f510878b-8cb5-4bfb-b200-c1033abd4339",
   "metadata": {},
   "outputs": [
    {
     "data": {
      "text/plain": [
       "Index(['id', 'firstName', 'lastName', 'profileRating', 'role',\n",
       "       'profilePicture', 'description', 'lastEmploymentString',\n",
       "       'freelancerDomain', 'freelancerExpertise', 'timeEmployment', 'email',\n",
       "       'phone', 'instagram', 'twitter', 'website', 'gender', 'birthDate',\n",
       "       'birthPlace', 'languages', 'address', 'experience', 'academicCareer',\n",
       "       'skills'],\n",
       "      dtype='object')"
      ]
     },
     "execution_count": 3,
     "metadata": {},
     "output_type": "execute_result"
    }
   ],
   "source": [
    "loader = DataFrameLoader(df, page_content_column='description')\n",
    "df.columns"
   ]
  },
  {
   "cell_type": "markdown",
   "id": "57f6ffeb-6ae2-4428-89b5-200ac5c89b6c",
   "metadata": {},
   "source": [
    "> Loading the documents from the dataframe using the <b>DataFrameLoader</b> native LangChain function"
   ]
  },
  {
   "cell_type": "code",
   "execution_count": 4,
   "id": "e305af5a-ad15-4501-b14b-e32652a2afab",
   "metadata": {},
   "outputs": [],
   "source": [
    "documents = loader.load()"
   ]
  },
  {
   "cell_type": "code",
   "execution_count": 5,
   "id": "7eca9edc-b9c4-46fb-8e06-344e078baf93",
   "metadata": {},
   "outputs": [
    {
     "name": "stdout",
     "output_type": "stream",
     "text": [
      "\n",
      "page_content='Lorem ipsum dolor sit amet consectetur, adipisicing elit. Aut quis nobis reiciendis tempore ullam, reprehenderit, officiis natus dignissimos aliquid facere deleniti in a odio ea voluptate harum dolorum. Earum, repellat error. Voluptatum hic, eveniet, odio omnis rerum repudiandae voluptates nobis reprehenderit, totam consectetur rem fuga. Quaerat dolorem aperiam molestiae facilis in. Consequatur magni harum quod vel molestiae nemo impedit sunt alias ad animi eos quisquam mollitia voluptatum recusandae, adipisci et cumque minima nesciunt natus repellat asperiores explicabo fugit voluptate. Quod repellendus voluptatum impedit asperiores unde quisquam adipisci esse tempore facere' metadata={'id': 1, 'firstName': 'Aymen', 'lastName': 'Ben Ali', 'profileRating': 4.5, 'role': 'Software Engineer', 'profilePicture': '/profilePictures/m1.jpg', 'lastEmploymentString': 'il ya 2 jours', 'freelancerDomain': 'Product Development', 'freelancerExpertise': 'marketing', 'timeEmployment': 'Plein temps', 'email': 'jeromeBell45@email.com', 'phone': '+44 1245 572 135', 'instagram': 'instagram.com/jeromebell', 'twitter': 'twitter.com/jeromebell', 'website': 'www.jeromebell.com', 'gender': 'male', 'birthDate': 'March 23, 1995 (26 y.o)', 'birthPlace': 'Tunis, Tunisia', 'languages': 'English, French', 'address': '4517 Washington Ave. Manchester, Kentucky 39495', 'experience': '4 ans', 'academicCareer': 'Bachelors in Engineering', 'skills': ['Project Management', 'Copywriting', 'English']}\n",
      "\n",
      "page_content='Lorem ipsum dolor sit amet consectetur, adipisicing elit. Aut quis nobis reiciendis tempore ullam, reprehenderit, officiis natus dignissimos aliquid facere deleniti in a odio ea voluptate harum dolorum. Earum, repellat error. Voluptatum hic, eveniet, odio omnis rerum repudiandae voluptates nobis reprehenderit, totam consectetur rem fuga. Quaerat dolorem aperiam molestiae facilis in. Consequatur magni harum quod vel molestiae nemo impedit sunt alias ad animi eos quisquam mollitia voluptatum recusandae, adipisci et cumque minima nesciunt natus repellat asperiores explicabo fugit voluptate. Quod repellendus voluptatum impedit asperiores unde quisquam adipisci esse tempore facere' metadata={'id': 2, 'firstName': 'Fatma', 'lastName': 'Trabelsi', 'profileRating': 4.7, 'role': 'Data Scientist', 'profilePicture': '/profilePictures/f1.jpg', 'lastEmploymentString': 'il y a 1 mois', 'freelancerDomain': 'Data Analytics', 'freelancerExpertise': 'data visualization', 'timeEmployment': 'Temps partiel', 'email': 'fatma.trabelsi@email.com', 'phone': '+33 123 456 789', 'instagram': 'instagram.com/fatma_trabelsi', 'twitter': 'twitter.com/fatma_trabelsi', 'website': 'www.fatmatrabelsi.com', 'gender': 'female', 'birthDate': 'June 15, 1992 (32 y.o)', 'birthPlace': 'Paris, France', 'languages': 'English, Arabic', 'address': '12 Rue de Paris, Paris, France', 'experience': '6 ans', 'academicCareer': 'Masters in Data Science', 'skills': ['Data Analysis', 'Python', 'SQL']}\n",
      "\n",
      "page_content='Lorem ipsum dolor sit amet consectetur, adipisicing elit. Aut quis nobis reiciendis tempore ullam, reprehenderit, officiis natus dignissimos aliquid facere deleniti in a odio ea voluptate harum dolorum. Earum, repellat error. Voluptatum hic, eveniet, odio omnis rerum repudiandae voluptates nobis reprehenderit, totam consectetur rem fuga. Quaerat dolorem aperiam molestiae facilis in. Consequatur magni harum quod vel molestiae nemo impedit sunt alias ad animi eos quisquam mollitia voluptatum recusandae, adipisci et cumque minima nesciunt natus repellat asperiores explicabo fugit voluptate. Quod repellendus voluptatum impedit asperiores unde quisquam adipisci esse tempore facere' metadata={'id': 3, 'firstName': 'Mohamed', 'lastName': 'Hammami', 'profileRating': 4.6, 'role': 'Machine Learning Engineer', 'profilePicture': '/profilePictures/m2.jpg', 'lastEmploymentString': 'il y a 3 semaines', 'freelancerDomain': 'AI & ML', 'freelancerExpertise': 'deep learning', 'timeEmployment': 'Plein temps', 'email': 'mohamed.hammami@email.com', 'phone': '+216 50 123 456', 'instagram': 'instagram.com/mohamed_hammami', 'twitter': 'twitter.com/mohamed_hammami', 'website': 'www.mohamedhammami.com', 'gender': 'male', 'birthDate': 'October 5, 1989 (34 y.o)', 'birthPlace': 'Tunis, Tunisia', 'languages': 'English, Arabic', 'address': '4 Rue de Tunis, Tunis, Tunisia', 'experience': '8 ans', 'academicCareer': 'PhD in Machine Learning', 'skills': ['TensorFlow', 'Keras', 'Neural Networks']}\n",
      "\n",
      "page_content='Lorem ipsum dolor sit amet consectetur, adipisicing elit. Aut quis nobis reiciendis tempore ullam, reprehenderit, officiis natus dignissimos aliquid facere deleniti in a odio ea voluptate harum dolorum. Earum, repellat error. Voluptatum hic, eveniet, odio omnis rerum repudiandae voluptates nobis reprehenderit, totam consectetur rem fuga. Quaerat dolorem aperiam molestiae facilis in. Consequatur magni harum quod vel molestiae nemo impedit sunt alias ad animi eos quisquam mollitia voluptatum recusandae, adipisci et cumque minima nesciunt natus repellat asperiores explicabo fugit voluptate. Quod repellendus voluptatum impedit asperiores unde quisquam adipisci esse tempore facere' metadata={'id': 4, 'firstName': 'Salma', 'lastName': 'Khaled', 'profileRating': 4.8, 'role': 'AI Researcher', 'profilePicture': '/profilePictures/f2.jpg', 'lastEmploymentString': 'il y a 2 semaines', 'freelancerDomain': 'AI Research', 'freelancerExpertise': 'natural language processing', 'timeEmployment': 'Plein temps', 'email': 'salma.khaled@email.com', 'phone': '+20 123 456 789', 'instagram': 'instagram.com/salma_khaled', 'twitter': 'twitter.com/salma_khaled', 'website': 'www.salmakhaled.com', 'gender': 'female', 'birthDate': 'April 22, 1987 (37 y.o)', 'birthPlace': 'Marseille, France', 'languages': 'English, Arabic', 'address': '24 Boulevard Longchamp, Marseille, France', 'experience': '10 ans', 'academicCareer': 'Masters in Artificial Intelligence', 'skills': ['NLP', 'Python', 'Research']}\n",
      "\n",
      "page_content='Lorem ipsum dolor sit amet consectetur, adipisicing elit. Aut quis nobis reiciendis tempore ullam, reprehenderit, officiis natus dignissimos aliquid facere deleniti in a odio ea voluptate harum dolorum. Earum, repellat error. Voluptatum hic, eveniet, odio omnis rerum repudiandae voluptates nobis reprehenderit, totam consectetur rem fuga. Quaerat dolorem aperiam molestiae facilis in. Consequatur magni harum quod vel molestiae nemo impedit sunt alias ad animi eos quisquam mollitia voluptatum recusandae, adipisci et cumque minima nesciunt natus repellat asperiores explicabo fugit voluptate. Quod repellendus voluptatum impedit asperiores unde quisquam adipisci esse tempore facere' metadata={'id': 5, 'firstName': 'Nour', 'lastName': 'Maaloul', 'profileRating': 4.4, 'role': 'DevOps Engineer', 'profilePicture': '/profilePictures/f3.jpg', 'lastEmploymentString': 'il y a 1 mois', 'freelancerDomain': 'DevOps', 'freelancerExpertise': 'cloud infrastructure', 'timeEmployment': 'Plein temps', 'email': 'nour.maaloul@email.com', 'phone': '+961 71 234 567', 'instagram': 'instagram.com/nour_maaloul', 'twitter': 'twitter.com/nour_maaloul', 'website': 'www.nourmaaloul.com', 'gender': 'female', 'birthDate': 'August 12, 1990 (33 y.o)', 'birthPlace': 'Tunis, Tunisia', 'languages': 'English, Arabic', 'address': '8 Rue de Beirut, Beirut, Lebanon', 'experience': '5 ans', 'academicCareer': 'Bachelors in Computer Science', 'skills': ['AWS', 'Docker', 'CI/CD']}\n",
      "\n",
      "page_content='Lorem ipsum dolor sit amet consectetur, adipisicing elit. Aut quis nobis reiciendis tempore ullam, reprehenderit, officiis natus dignissimos aliquid facere deleniti in a odio ea voluptate harum dolorum. Earum, repellat error. Voluptatum hic, eveniet, odio omnis rerum repudiandae voluptates nobis reprehenderit, totam consectetur rem fuga. Quaerat dolorem aperiam molestiae facilis in. Consequatur magni harum quod vel molestiae nemo impedit sunt alias ad animi eos quisquam mollitia voluptatum recusandae, adipisci et cumque minima nesciunt natus repellat asperiores explicabo fugit voluptate. Quod repellendus voluptatum impedit asperiores unde quisquam adipisci esse tempore facere' metadata={'id': 6, 'firstName': 'Rania', 'lastName': 'Bouzid', 'profileRating': 4.3, 'role': 'Frontend Developer', 'profilePicture': '/profilePictures/f4.jpg', 'lastEmploymentString': 'il y a 2 jours', 'freelancerDomain': 'Web Development', 'freelancerExpertise': 'React.js', 'timeEmployment': 'Plein temps', 'email': 'rania.bouzid@email.com', 'phone': '+216 70 123 456', 'instagram': 'instagram.com/rania_bouzid', 'twitter': 'twitter.com/rania_bouzid', 'website': 'www.raniabouzid.com', 'gender': 'female', 'birthDate': 'January 29, 1994 (30 y.o)', 'birthPlace': 'Lille, France', 'languages': 'English, French', 'address': '10 Rue de Lille, Lille, France', 'experience': '3 ans', 'academicCareer': 'Bachelors in Web Development', 'skills': ['React.js', 'CSS', 'JavaScript']}\n"
     ]
    }
   ],
   "source": [
    "for doc in documents:\n",
    "    print()\n",
    "    print(doc)"
   ]
  }
 ],
 "metadata": {
  "kernelspec": {
   "display_name": "Python 3 (ipykernel)",
   "language": "python",
   "name": "python3"
  },
  "language_info": {
   "codemirror_mode": {
    "name": "ipython",
    "version": 3
   },
   "file_extension": ".py",
   "mimetype": "text/x-python",
   "name": "python",
   "nbconvert_exporter": "python",
   "pygments_lexer": "ipython3",
   "version": "3.12.4"
  }
 },
 "nbformat": 4,
 "nbformat_minor": 5
}
